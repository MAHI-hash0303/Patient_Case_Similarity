{
  "cells": [
    {
      "cell_type": "code",
      "execution_count": 14,
      "metadata": {
        "colab": {
          "base_uri": "https://localhost:8080/"
        },
        "id": "lV57RxnehvWf",
        "outputId": "01c6dd4d-92f6-4403-cd94-1d6158d163ff"
      },
      "outputs": [
        {
          "name": "stdout",
          "output_type": "stream",
          "text": [
            "Enter symptoms (comma separated): Typically no symptoms until a fracture occurs\n",
            "Predicted Disease: Osteoporosis \n",
            "Predicted Prescription: Alendronate, Risedronate, Calcium and Vitamin D supplements \n",
            "\n"
          ]
        },
        {
          "name": "stderr",
          "output_type": "stream",
          "text": [
            "<ipython-input-14-ae9fe0a6f184>:37: FutureWarning: Passing a set as an indexer is deprecated and will raise in a future version. Use a list instead.\n",
            "  user_input_df.loc[0, input_symptoms] = 1\n",
            "<ipython-input-14-ae9fe0a6f184>:37: FutureWarning: Passing a set as an indexer is deprecated and will raise in a future version. Use a list instead.\n",
            "  user_input_df.loc[0, input_symptoms] = 1\n",
            "/usr/local/lib/python3.10/dist-packages/sklearn/preprocessing/_label.py:155: DataConversionWarning: A column-vector y was passed when a 1d array was expected. Please change the shape of y to (n_samples, ), for example using ravel().\n",
            "  y = column_or_1d(y, warn=True)\n",
            "/usr/local/lib/python3.10/dist-packages/sklearn/preprocessing/_label.py:155: DataConversionWarning: A column-vector y was passed when a 1d array was expected. Please change the shape of y to (n_samples, ), for example using ravel().\n",
            "  y = column_or_1d(y, warn=True)\n"
          ]
        }
      ],
      "source": [
        "# Predicting the Disease from Symptom entered by User\n",
        "from sklearn.ensemble import RandomForestClassifier\n",
        "from sklearn.preprocessing import MultiLabelBinarizer, LabelEncoder\n",
        "\n",
        "mlb = MultiLabelBinarizer()\n",
        "le_disease = LabelEncoder()\n",
        "le_prescription = LabelEncoder()\n",
        "\n",
        "df['SYMPTOMS'] = df['SYMPTOMS'].apply(lambda x: ', '.join(str(x).split(', ')))\n",
        "\n",
        "df['SYMPTOMS'] = df['SYMPTOMS'].str.lower()\n",
        "\n",
        "df['SYMPTOMS'] = df['SYMPTOMS'].apply(lambda x: set(x.split(', ')))\n",
        "symptoms_encoded = mlb.fit_transform(df['SYMPTOMS'])\n",
        "df_encoded = pd.concat([df, pd.DataFrame(symptoms_encoded, columns=mlb.classes_)], axis=1)\n",
        "\n",
        "X = df_encoded[mlb.classes_]\n",
        "y_disease = le_disease.fit_transform(df['DISEASE'])\n",
        "y_prescription = le_prescription.fit_transform(df['PRESCRIPTION'])\n",
        "\n",
        "rf_disease_model = RandomForestClassifier(random_state=42)\n",
        "rf_disease_model.fit(X, y_disease)\n",
        "\n",
        "rf_prescription_model = RandomForestClassifier(random_state=42)\n",
        "rf_prescription_model.fit(X, y_prescription)\n",
        "\n",
        "def predict_disease_and_prescription(user_input, model_disease, model_prescription, symptom_encoder, disease_encoder, prescription_encoder):\n",
        "\n",
        "    input_symptoms = set(str(user_input).lower().split(', '))\n",
        "    unknown_labels = input_symptoms - set(symptom_encoder.classes_)\n",
        "\n",
        "    if unknown_labels:\n",
        "        input_symptoms -= unknown_labels\n",
        "        print(f\"Unknown labels removed from user input: {unknown_labels}\")\n",
        "\n",
        "    user_input_df = pd.DataFrame(columns=mlb.classes_)\n",
        "    user_input_df.loc[0, :] = 0\n",
        "    user_input_df.loc[0, input_symptoms] = 1\n",
        "    predicted_disease = disease_encoder.inverse_transform([model_disease.predict(user_input_df)])[0]\n",
        "    predicted_prescription = prescription_encoder.inverse_transform([model_prescription.predict(user_input_df)])[0]\n",
        "    return predicted_disease, predicted_prescription\n",
        "\n",
        "user_symptoms = input(\"Enter symptoms (comma separated): \")    # Enter Symptom\n",
        "predicted_disease, predicted_prescription = predict_disease_and_prescription(user_symptoms, rf_disease_model, rf_prescription_model, mlb, le_disease, le_prescription)\n",
        "print(f'Predicted Disease: {predicted_disease}')\n",
        "print(f'Predicted Prescription: {predicted_prescription}','\\n')"
      ]
    },
    {
      "cell_type": "code",
      "execution_count": null,
      "metadata": {
        "id": "97UtUfHfSQSw"
      },
      "outputs": [],
      "source": []
    }
  ],
  "metadata": {
    "colab": {
      "provenance": []
    },
    "kernelspec": {
      "display_name": "Python 3",
      "name": "python3"
    },
    "language_info": {
      "name": "python"
    }
  },
  "nbformat": 4,
  "nbformat_minor": 0
}
